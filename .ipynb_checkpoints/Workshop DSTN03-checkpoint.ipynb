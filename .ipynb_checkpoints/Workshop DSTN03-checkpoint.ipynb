{
 "cells": [
  {
   "cell_type": "markdown",
   "id": "28b6ac03",
   "metadata": {},
   "source": [
    "## Workshop 1\n",
    ">### Grupo: Andre Durso / Debora Pacanaro / Emmydio Paulo / Ivair Bezerra / Willian Yamakawa Souza\n",
    ">>### **Objetivos:**\n",
    ">>##### ● Executar uma limpeza do conjunto de dados fornecido. Em particular, você precisará\n",
    "elaborar estratégias para lidar com dados ausentes em determinadas variáveis.\n",
    ">>##### ● Realizar uma análise descritiva das principais variáveis.\n",
    ">>##### ● Criar novas colunas de determinados recursos que podem ter valor preditivo.\n",
    "Vocês deverão entregar o trabalho da seguinte forma:\n",
    "Apresente um relatório estruturado (PPT ou Google Slides). Este deve consistir em uma introdução (enunciado do problema, a pergunta, a descrição do conjunto de dados, etc.), um desenvolvimento das análises realizadas (análise descritiva, análise de correlação preliminar, visualizações preliminares) e uma apresentação dos principais resultados e conclusões.\n",
    "\n",
    ">>### **Observações:**\n",
    ">>##### 1- Se já tiverem pessoas que gostariam de fazer o trabalho em conjunto, interagem entre vocês e se organizem, na aula vou quebrar a turma em grupos e vocês deverão entrar na mesma sala para início do projeto ( max 5 pessoas)\n",
    ">>##### 2- Vocês trabalharão com o dataset que estou enviando aqui, é o dataset do enem SP, este dataset compreenderá o Workshop 1 e 2.\n",
    ">>##### 3- Início do trabalho hoje, entrega máxima dia 27/07/2022 e apresentação dia 01/08/2022\n",
    ">>##### 4- No dia da apresentação cada grupo deverá apresentar o ppt criado em no máximo 10 minutos, logo após a conclusão os professores irão dar um feedback.\n",
    ">>##### 5- Não haverá extensão de prazo, deveremos impreterivelmente receber Notebook + ppt no máximo até dia 27/07/2022.\n"
   ]
  },
  {
   "cell_type": "markdown",
   "id": "6e2d41f8",
   "metadata": {},
   "source": [
    "<ul>\n",
    "    <li><a href=\"#intro\">1. Coleta Base Enem do estado de São Paulo</a></li>\n",
    "\n",
    "</ul>"
   ]
  },
  {
   "cell_type": "code",
   "execution_count": null,
   "id": "dc3e1166",
   "metadata": {},
   "outputs": [],
   "source": []
  },
  {
   "cell_type": "code",
   "execution_count": null,
   "id": "b9224b19",
   "metadata": {},
   "outputs": [],
   "source": []
  },
  {
   "cell_type": "code",
   "execution_count": null,
   "id": "63932602",
   "metadata": {},
   "outputs": [],
   "source": []
  },
  {
   "cell_type": "code",
   "execution_count": null,
   "id": "94b3e679",
   "metadata": {},
   "outputs": [],
   "source": []
  },
  {
   "cell_type": "code",
   "execution_count": null,
   "id": "6edc40d7",
   "metadata": {},
   "outputs": [],
   "source": []
  },
  {
   "cell_type": "code",
   "execution_count": null,
   "id": "2098d6e2",
   "metadata": {},
   "outputs": [],
   "source": []
  },
  {
   "cell_type": "code",
   "execution_count": null,
   "id": "741f6fe5",
   "metadata": {},
   "outputs": [],
   "source": []
  },
  {
   "cell_type": "code",
   "execution_count": null,
   "id": "486b05a7",
   "metadata": {},
   "outputs": [],
   "source": []
  },
  {
   "cell_type": "code",
   "execution_count": null,
   "id": "1cc23843",
   "metadata": {},
   "outputs": [],
   "source": []
  },
  {
   "cell_type": "code",
   "execution_count": null,
   "id": "cc7895d1",
   "metadata": {},
   "outputs": [],
   "source": []
  },
  {
   "cell_type": "code",
   "execution_count": null,
   "id": "da3b0049",
   "metadata": {},
   "outputs": [],
   "source": []
  },
  {
   "cell_type": "code",
   "execution_count": null,
   "id": "a7cc143b",
   "metadata": {},
   "outputs": [],
   "source": []
  },
  {
   "cell_type": "code",
   "execution_count": null,
   "id": "65ed5e28",
   "metadata": {},
   "outputs": [],
   "source": []
  },
  {
   "cell_type": "code",
   "execution_count": null,
   "id": "be85a3cd",
   "metadata": {},
   "outputs": [],
   "source": []
  },
  {
   "cell_type": "code",
   "execution_count": null,
   "id": "eb3ee6ad",
   "metadata": {},
   "outputs": [],
   "source": []
  },
  {
   "cell_type": "code",
   "execution_count": null,
   "id": "2c24809d",
   "metadata": {},
   "outputs": [],
   "source": []
  },
  {
   "cell_type": "code",
   "execution_count": null,
   "id": "2455895b",
   "metadata": {},
   "outputs": [],
   "source": []
  },
  {
   "cell_type": "code",
   "execution_count": null,
   "id": "785a49c8",
   "metadata": {},
   "outputs": [],
   "source": []
  },
  {
   "cell_type": "code",
   "execution_count": null,
   "id": "58f7c4a1",
   "metadata": {},
   "outputs": [],
   "source": []
  },
  {
   "cell_type": "code",
   "execution_count": null,
   "id": "58ef8420",
   "metadata": {},
   "outputs": [],
   "source": []
  },
  {
   "cell_type": "markdown",
   "id": "bfc2c33d",
   "metadata": {},
   "source": [
    "<a id='intro'></a>\n",
    "## Coleta enem São Paulo"
   ]
  },
  {
   "cell_type": "code",
   "execution_count": null,
   "id": "2a6f36cf",
   "metadata": {},
   "outputs": [],
   "source": []
  }
 ],
 "metadata": {
  "kernelspec": {
   "display_name": "Python 3 (ipykernel)",
   "language": "python",
   "name": "python3"
  },
  "language_info": {
   "codemirror_mode": {
    "name": "ipython",
    "version": 3
   },
   "file_extension": ".py",
   "mimetype": "text/x-python",
   "name": "python",
   "nbconvert_exporter": "python",
   "pygments_lexer": "ipython3",
   "version": "3.9.12"
  }
 },
 "nbformat": 4,
 "nbformat_minor": 5
}
